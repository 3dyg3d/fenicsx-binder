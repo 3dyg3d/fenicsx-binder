{
 "cells": [
  {
   "cell_type": "markdown",
   "id": "0",
   "metadata": {},
   "source": [
    "# EXPERIMENTING"
   ]
  },
  {
   "cell_type": "code",
   "execution_count": 1,
   "id": "61216e49-1713-4156-8936-afb64e1d6947",
   "metadata": {
    "lines_to_next_cell": 2
   },
   "outputs": [
    {
     "name": "stdout",
     "output_type": "stream",
     "text": [
      "dolfinx version: 0.9.0\n",
      "dolfinx path: /srv/conda/envs/notebook/lib/python3.11/site-packages/dolfinx/__init__.py\n",
      "Python: 3.11.14 | packaged by conda-forge | (main, Oct 13 2025, 14:09:32) [GCC 14.3.0]\n",
      "PETSc4py: 3.24.0\n"
     ]
    }
   ],
   "source": [
    "import dolfinx, sys, petsc4py\n",
    "print(\"dolfinx version:\", dolfinx.__version__)\n",
    "print(\"dolfinx path:\", dolfinx.__file__)\n",
    "print(\"Python:\", sys.version)\n",
    "print(\"PETSc4py:\", petsc4py.__version__)"
   ]
  },
  {
   "cell_type": "markdown",
   "id": "51fc96a1-96b9-4897-b8d5-4b18ebaacac5",
   "metadata": {
    "lines_to_next_cell": 2
   },
   "source": [
    "Bring in needed dependencies"
   ]
  },
  {
   "cell_type": "code",
   "execution_count": 2,
   "id": "abad9128-c72e-4e5f-a533-606596676141",
   "metadata": {},
   "outputs": [],
   "source": [
    "from dolfinx import log, default_scalar_type\n",
    "from dolfinx.fem.petsc import NonlinearProblem\n",
    "import pyvista\n",
    "import numpy as np\n",
    "import ufl\n",
    "\n",
    "from mpi4py import MPI\n",
    "from dolfinx import fem, mesh, plot\n",
    "\n",
    "from dolfinx.nls.petsc import NewtonSolver\n",
    "from petsc4py import PETSc\n",
    "\n",
    "from dolfinx.io import XDMFFile\n",
    "import traceback"
   ]
  },
  {
   "cell_type": "markdown",
   "id": "59a73614-1b0c-41ea-82ab-7d2d0c25a476",
   "metadata": {
    "lines_to_next_cell": 2
   },
   "source": [
    "Define the domain"
   ]
  },
  {
   "cell_type": "code",
   "execution_count": 3,
   "id": "1",
   "metadata": {
    "lines_to_end_of_cell_marker": 2,
    "tags": []
   },
   "outputs": [],
   "source": [
    "L = 20.0\n",
    "domain = mesh.create_box(\n",
    "    MPI.COMM_WORLD, [[0.0, 0.0, 0.0], [L, 4, 4]], [20, 4, 4], mesh.CellType.hexahedron\n",
    ")\n",
    "V = fem.functionspace(domain, (\"Lagrange\", 2, (domain.geometry.dim,)))"
   ]
  },
  {
   "cell_type": "markdown",
   "id": "2",
   "metadata": {
    "lines_to_next_cell": 2
   },
   "source": [
    "Create two python functions for determining the facets to apply boundary conditions to"
   ]
  },
  {
   "cell_type": "code",
   "execution_count": 4,
   "id": "3",
   "metadata": {},
   "outputs": [],
   "source": [
    "def left(x):\n",
    "    return np.isclose(x[0], 0)\n",
    "\n",
    "\n",
    "def right(x):\n",
    "    return np.isclose(x[0], L)\n",
    "\n",
    "\n",
    "fdim = domain.topology.dim - 1\n",
    "left_facets = mesh.locate_entities_boundary(domain, fdim, left)\n",
    "right_facets = mesh.locate_entities_boundary(domain, fdim, right)"
   ]
  },
  {
   "cell_type": "markdown",
   "id": "4",
   "metadata": {},
   "source": [
    "Next, create a  marker based on these two functions"
   ]
  },
  {
   "cell_type": "markdown",
   "id": "5",
   "metadata": {},
   "source": [
    "Concatenate and sort the arrays based on facet indices. Left facets marked with 1, right facets with two"
   ]
  },
  {
   "cell_type": "code",
   "execution_count": 5,
   "id": "6",
   "metadata": {},
   "outputs": [],
   "source": [
    "marked_facets = np.hstack([left_facets, right_facets])\n",
    "marked_values = np.hstack([np.full_like(left_facets, 1), np.full_like(right_facets, 2)])\n",
    "sorted_facets = np.argsort(marked_facets)\n",
    "facet_tag = mesh.meshtags(\n",
    "    domain, fdim, marked_facets[sorted_facets], marked_values[sorted_facets]\n",
    ")"
   ]
  },
  {
   "cell_type": "markdown",
   "id": "7",
   "metadata": {},
   "source": [
    "Create a function for supplying the boundary condition on the left side, which is fixed."
   ]
  },
  {
   "cell_type": "code",
   "execution_count": 6,
   "id": "8",
   "metadata": {},
   "outputs": [],
   "source": [
    "u_bc = np.array((0,) * domain.geometry.dim, dtype=default_scalar_type)"
   ]
  },
  {
   "cell_type": "markdown",
   "id": "9",
   "metadata": {},
   "source": [
    "To apply the boundary condition, we identity the dofs located on the facets marked by the `MeshTag`."
   ]
  },
  {
   "cell_type": "code",
   "execution_count": 7,
   "id": "10",
   "metadata": {},
   "outputs": [],
   "source": [
    "left_dofs = fem.locate_dofs_topological(V, facet_tag.dim, facet_tag.find(1))\n",
    "bcs = [fem.dirichletbc(u_bc, left_dofs, V)]"
   ]
  },
  {
   "cell_type": "markdown",
   "id": "11",
   "metadata": {},
   "source": [
    "Next, we define the body force on the reference configuration (`B`), and nominal (first Piola-Kirchhoff) traction (`T`)."
   ]
  },
  {
   "cell_type": "code",
   "execution_count": 8,
   "id": "12",
   "metadata": {},
   "outputs": [],
   "source": [
    "B = fem.Constant(domain, default_scalar_type((0, 0, 0)))\n",
    "T = fem.Constant(domain, default_scalar_type((0, 0, 0)))"
   ]
  },
  {
   "cell_type": "markdown",
   "id": "13",
   "metadata": {},
   "source": [
    "Define the test and solution functions on the space $V$"
   ]
  },
  {
   "cell_type": "code",
   "execution_count": 9,
   "id": "14",
   "metadata": {},
   "outputs": [],
   "source": [
    "v = ufl.TestFunction(V)\n",
    "u = fem.Function(V)"
   ]
  },
  {
   "cell_type": "markdown",
   "id": "15",
   "metadata": {},
   "source": [
    "Define kinematic quantities used in the problem"
   ]
  },
  {
   "cell_type": "code",
   "execution_count": 10,
   "id": "16",
   "metadata": {},
   "outputs": [],
   "source": [
    "# Spatial dimension\n",
    "d = len(u)\n",
    "\n",
    "# Identity tensor\n",
    "I = ufl.variable(ufl.Identity(d))\n",
    "\n",
    "# Deformation gradient\n",
    "F = ufl.variable(I + ufl.grad(u))\n",
    "\n",
    "# Right Cauchy-Green tensor\n",
    "C = ufl.variable(F.T * F)\n",
    "\n",
    "# Invariants of deformation tensors\n",
    "Ic = ufl.variable(ufl.tr(C))\n",
    "J = ufl.variable(ufl.det(F))"
   ]
  },
  {
   "cell_type": "markdown",
   "id": "17",
   "metadata": {},
   "source": [
    "Define the elasticity model via a stored strain energy density function $\\psi$,\n",
    "and create the expression for the first Piola-Kirchhoff stress:"
   ]
  },
  {
   "cell_type": "markdown",
   "id": "18",
   "metadata": {},
   "source": [
    "Elasticity parameters"
   ]
  },
  {
   "cell_type": "code",
   "execution_count": 11,
   "id": "19",
   "metadata": {},
   "outputs": [],
   "source": [
    "E = default_scalar_type(1.0e4)\n",
    "nu = default_scalar_type(0.3)\n",
    "mu = fem.Constant(domain, E / (2 * (1 + nu)))\n",
    "lmbda = fem.Constant(domain, E * nu / ((1 + nu) * (1 - 2 * nu)))"
   ]
  },
  {
   "cell_type": "markdown",
   "id": "20",
   "metadata": {},
   "source": [
    "Stored strain energy density (compressible neo-Hookean model)"
   ]
  },
  {
   "cell_type": "code",
   "execution_count": 12,
   "id": "21",
   "metadata": {},
   "outputs": [],
   "source": [
    "psi = (mu / 2) * (Ic - 3) - mu * ufl.ln(J) + (lmbda / 2) * (ufl.ln(J)) ** 2"
   ]
  },
  {
   "cell_type": "markdown",
   "id": "22",
   "metadata": {},
   "source": [
    "1st PK stress"
   ]
  },
  {
   "cell_type": "code",
   "execution_count": 13,
   "id": "23",
   "metadata": {},
   "outputs": [],
   "source": [
    "P = ufl.diff(psi, F)"
   ]
  },
  {
   "cell_type": "markdown",
   "id": "639c92f0-1e72-4e4b-9d68-fbef457b71ad",
   "metadata": {},
   "source": [
    "Cauchy stress"
   ]
  },
  {
   "cell_type": "code",
   "execution_count": 14,
   "id": "634cd44c-4074-40ae-94fb-403f90f44451",
   "metadata": {},
   "outputs": [],
   "source": [
    "# --- Compute Cauchy stress symbolically ---\n",
    "J = ufl.det(F)\n",
    "sigma = (1.0 / J) * P * F.T  # σ = (1/J) * P * Fᵀ"
   ]
  },
  {
   "cell_type": "markdown",
   "id": "24",
   "metadata": {},
   "source": [
    "```{admonition} Comparison to linear elasticity\n",
    "To illustrate the difference between linear and hyperelasticity,\n",
    "the following lines can be uncommented to solve the linear elasticity problem.\n",
    "```"
   ]
  },
  {
   "cell_type": "code",
   "execution_count": 15,
   "id": "25",
   "metadata": {},
   "outputs": [],
   "source": [
    "# P = 2.0 * mu * ufl.sym(ufl.grad(u)) + lmbda * ufl.tr(ufl.sym(ufl.grad(u))) * I"
   ]
  },
  {
   "cell_type": "markdown",
   "id": "26",
   "metadata": {},
   "source": [
    "Define the variational form with traction integral over all facets with value 2.\n",
    "We set the quadrature degree for the integrals to 4."
   ]
  },
  {
   "cell_type": "code",
   "execution_count": 16,
   "id": "27",
   "metadata": {},
   "outputs": [],
   "source": [
    "metadata = {\"quadrature_degree\": 4}\n",
    "ds = ufl.Measure(\"ds\", domain=domain, subdomain_data=facet_tag, metadata=metadata)\n",
    "dx = ufl.Measure(\"dx\", domain=domain, metadata=metadata)"
   ]
  },
  {
   "cell_type": "markdown",
   "id": "28",
   "metadata": {},
   "source": [
    "Define the residual of the equation (we want to find u such that residual(u) = 0)"
   ]
  },
  {
   "cell_type": "code",
   "execution_count": 17,
   "id": "29",
   "metadata": {},
   "outputs": [],
   "source": [
    "residual = (\n",
    "    ufl.inner(ufl.grad(v), P) * dx - ufl.inner(v, B) * dx - ufl.inner(v, T) * ds(2)\n",
    ")"
   ]
  },
  {
   "cell_type": "markdown",
   "id": "30",
   "metadata": {},
   "source": [
    "As the varitional form is non-linear and written on residual form,\n",
    "we use the non-linear problem class from DOLFINx to set up required structures to use a Newton solver."
   ]
  },
  {
   "cell_type": "code",
   "execution_count": 18,
   "id": "31",
   "metadata": {},
   "outputs": [
    {
     "name": "stdout",
     "output_type": "stream",
     "text": [
      "Converged: True, iterations = 2\n"
     ]
    }
   ],
   "source": [
    "# 1️⃣ Define nonlinear problem\n",
    "problem = NonlinearProblem(residual, u, bcs=bcs)\n",
    "\n",
    "# 2️⃣ Configure PETSc options globally\n",
    "opts = PETSc.Options()\n",
    "opts[\"snes_type\"] = \"newtonls\"\n",
    "opts[\"snes_linesearch_type\"] = \"basic\"\n",
    "opts[\"ksp_type\"] = \"preonly\"\n",
    "opts[\"pc_type\"] = \"lu\"\n",
    "opts[\"pc_factor_mat_solver_type\"] = \"petsc\"\n",
    "# You can add monitors if desired:\n",
    "# opts[\"snes_monitor\"] = \"\"\n",
    "\n",
    "# 3️⃣ Create solver and tune tolerances\n",
    "solver = NewtonSolver(u.function_space.mesh.comm, problem)\n",
    "solver.rtol = 1e-8\n",
    "solver.atol = 1e-8\n",
    "solver.stol = 1e-8\n",
    "solver.max_it = 50\n",
    "solver.report = True\n",
    "solver.convergence_criterion = \"incremental\"\n",
    "\n",
    "# 4️⃣ Solve\n",
    "n_iter, converged = solver.solve(u)\n",
    "print(f\"Converged: {converged}, iterations = {n_iter}\")\n"
   ]
  },
  {
   "cell_type": "markdown",
   "id": "34",
   "metadata": {},
   "source": [
    "Finally, we solve the problem over several time steps, updating the z-component of the traction"
   ]
  },
  {
   "cell_type": "code",
   "execution_count": 19,
   "id": "35",
   "metadata": {
    "scrolled": true
   },
   "outputs": [
    {
     "name": "stdout",
     "output_type": "stream",
     "text": [
      "\n",
      "=== Load step 1 ===\n",
      "Step 1: ✅ converged in 4 iterations\n",
      "📤 Saved step 1 to XDMF (time = 1)\n",
      "📤 Saved Cauchy stress step 1\n",
      "\n",
      "=== Load step 2 ===\n",
      "Step 2: ✅ converged in 4 iterations\n",
      "📤 Saved step 2 to XDMF (time = 2)\n",
      "📤 Saved Cauchy stress step 2\n",
      "\n",
      "=== Load step 3 ===\n",
      "Step 3: ✅ converged in 4 iterations\n",
      "📤 Saved step 3 to XDMF (time = 3)\n",
      "📤 Saved Cauchy stress step 3\n",
      "\n",
      "=== Load step 4 ===\n",
      "Step 4: ✅ converged in 4 iterations\n",
      "📤 Saved step 4 to XDMF (time = 4)\n",
      "📤 Saved Cauchy stress step 4\n",
      "\n",
      "=== Load step 5 ===\n",
      "Step 5: ✅ converged in 4 iterations\n",
      "📤 Saved step 5 to XDMF (time = 5)\n",
      "📤 Saved Cauchy stress step 5\n",
      "\n",
      "=== Load step 6 ===\n",
      "Step 6: ✅ converged in 4 iterations\n",
      "📤 Saved step 6 to XDMF (time = 6)\n",
      "📤 Saved Cauchy stress step 6\n",
      "\n",
      "=== Load step 7 ===\n",
      "Step 7: ✅ converged in 4 iterations\n",
      "📤 Saved step 7 to XDMF (time = 7)\n",
      "📤 Saved Cauchy stress step 7\n",
      "\n",
      "=== Load step 8 ===\n",
      "Step 8: ✅ converged in 4 iterations\n",
      "📤 Saved step 8 to XDMF (time = 8)\n",
      "📤 Saved Cauchy stress step 8\n",
      "\n",
      "=== Load step 9 ===\n",
      "Step 9: ✅ converged in 4 iterations\n",
      "📤 Saved step 9 to XDMF (time = 9)\n",
      "📤 Saved Cauchy stress step 9\n",
      "\n",
      "=== Load step 10 ===\n",
      "Step 10: ✅ converged in 4 iterations\n",
      "📤 Saved step 10 to XDMF (time = 10)\n",
      "📤 Saved Cauchy stress step 10\n",
      "\n",
      "=== Load step 11 ===\n",
      "Step 11: ✅ converged in 4 iterations\n",
      "📤 Saved step 11 to XDMF (time = 11)\n",
      "📤 Saved Cauchy stress step 11\n",
      "\n",
      "=== Load step 12 ===\n",
      "Step 12: ✅ converged in 4 iterations\n",
      "📤 Saved step 12 to XDMF (time = 12)\n",
      "📤 Saved Cauchy stress step 12\n",
      "\n",
      "=== Load step 13 ===\n",
      "Step 13: ✅ converged in 4 iterations\n",
      "📤 Saved step 13 to XDMF (time = 13)\n",
      "📤 Saved Cauchy stress step 13\n",
      "\n",
      "=== Load step 14 ===\n",
      "Step 14: ✅ converged in 4 iterations\n",
      "📤 Saved step 14 to XDMF (time = 14)\n",
      "📤 Saved Cauchy stress step 14\n",
      "\n",
      "=== Load step 15 ===\n",
      "Step 15: ✅ converged in 4 iterations\n",
      "📤 Saved step 15 to XDMF (time = 15)\n",
      "📤 Saved Cauchy stress step 15\n",
      "\n",
      "=== Load step 16 ===\n",
      "Step 16: ✅ converged in 4 iterations\n",
      "📤 Saved step 16 to XDMF (time = 16)\n",
      "📤 Saved Cauchy stress step 16\n",
      "\n",
      "=== Load step 17 ===\n",
      "Step 17: ✅ converged in 4 iterations\n",
      "📤 Saved step 17 to XDMF (time = 17)\n",
      "📤 Saved Cauchy stress step 17\n",
      "\n",
      "=== Load step 18 ===\n",
      "Step 18: ✅ converged in 4 iterations\n",
      "📤 Saved step 18 to XDMF (time = 18)\n",
      "📤 Saved Cauchy stress step 18\n",
      "\n",
      "=== Load step 19 ===\n",
      "Step 19: ✅ converged in 4 iterations\n",
      "📤 Saved step 19 to XDMF (time = 19)\n",
      "📤 Saved Cauchy stress step 19\n",
      "✅ Simulation completed successfully.\n"
     ]
    }
   ],
   "source": [
    "# --- Open XDMF file once and keep it open ---\n",
    "with XDMFFile(domain.comm, \"results_hyperelastic.xdmf\", \"w\") as xdmf:\n",
    "    xdmf.write_mesh(domain)\n",
    "\n",
    "    tval0 = -1.5\n",
    "\n",
    "    # --- Loop over load steps ---\n",
    "    for n in range(1, 20):\n",
    "        print(f\"\\n=== Load step {n} ===\")\n",
    "        T.value[2] = n * tval0\n",
    "\n",
    "        try:\n",
    "            n_iter, converged = solver.solve(u)\n",
    "            print(f\"Step {n}: {'✅ converged' if converged else '❌ not converged'} in {n_iter} iterations\")\n",
    "        except Exception as e:\n",
    "            print(f\"❌ Solver crashed at step {n}: {e}\")\n",
    "            traceback.print_exc()\n",
    "            break\n",
    "\n",
    "        # --- Write displacement field (interpolated to linear space for ParaView) ---\n",
    "        V_out = fem.functionspace(domain, (\"Lagrange\", 1, (domain.geometry.dim,)))\n",
    "        u_out = fem.Function(V_out)\n",
    "        u_out.interpolate(u)\n",
    "        u_out.name = \"Displacement\"\n",
    "        xdmf.write_function(u_out, t=float(n))  # n used as time value\n",
    "        print(f\"📤 Saved step {n} to XDMF (time = {n})\")\n",
    "        \n",
    "        # --- Write Cauchy stress ---\n",
    "        W_out = fem.functionspace(domain, (\"Lagrange\", 1, (domain.geometry.dim, domain.geometry.dim)))\n",
    "        v_sig = ufl.TestFunction(W_out)\n",
    "        tau_sig = ufl.TrialFunction(W_out)\n",
    "        a_proj = ufl.inner(tau_sig, v_sig) * ufl.dx\n",
    "        L_proj = ufl.inner(sigma, v_sig) * ufl.dx\n",
    "        \n",
    "        problem_proj = fem.petsc.LinearProblem(a_proj, L_proj)\n",
    "        sigma_out = problem_proj.solve()\n",
    "        sigma_out.name = \"Cauchy_stress\"\n",
    "        \n",
    "        xdmf.write_function(sigma_out, t=float(n))\n",
    "        print(f\"📤 Saved Cauchy stress step {n}\")\n",
    "\n",
    "        # --- Optional: safety check ---\n",
    "        if np.isnan(u.x.array).any():\n",
    "            print(\"⚠️ NaN detected in solution, stopping loop.\")\n",
    "            break\n",
    "\n",
    "print(\"✅ Simulation completed successfully.\")\n"
   ]
  },
  {
   "cell_type": "code",
   "execution_count": null,
   "id": "a02f0d63-dfea-4079-87d0-c19c1d10ffd6",
   "metadata": {},
   "outputs": [],
   "source": []
  }
 ],
 "metadata": {
  "jupytext": {
   "formats": "ipynb,py:light"
  },
  "kernelspec": {
   "display_name": "Python 3 (ipykernel)",
   "language": "python",
   "name": "python3"
  },
  "language_info": {
   "codemirror_mode": {
    "name": "ipython",
    "version": 3
   },
   "file_extension": ".py",
   "mimetype": "text/x-python",
   "name": "python",
   "nbconvert_exporter": "python",
   "pygments_lexer": "ipython3",
   "version": "3.11.14"
  }
 },
 "nbformat": 4,
 "nbformat_minor": 5
}
