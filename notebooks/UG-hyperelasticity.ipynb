{
 "cells": [
  {
   "cell_type": "markdown",
   "id": "0",
   "metadata": {},
   "source": [
    "# EXPERIMENTING"
   ]
  },
  {
   "cell_type": "code",
   "execution_count": 1,
   "id": "61216e49-1713-4156-8936-afb64e1d6947",
   "metadata": {
    "lines_to_next_cell": 2
   },
   "outputs": [
    {
     "name": "stdout",
     "output_type": "stream",
     "text": [
      "dolfinx version: 0.9.0\n",
      "dolfinx path: /home/ug/miniconda3/envs/fenicsx/lib/python3.13/site-packages/dolfinx/__init__.py\n",
      "Python: 3.13.9 | packaged by conda-forge | (main, Oct 16 2025, 10:31:39) [GCC 14.3.0]\n",
      "PETSc4py: 3.24.0\n"
     ]
    }
   ],
   "source": [
    "import dolfinx, sys, petsc4py\n",
    "print(\"dolfinx version:\", dolfinx.__version__)\n",
    "print(\"dolfinx path:\", dolfinx.__file__)\n",
    "print(\"Python:\", sys.version)\n",
    "print(\"PETSc4py:\", petsc4py.__version__)"
   ]
  },
  {
   "cell_type": "markdown",
   "id": "51fc96a1-96b9-4897-b8d5-4b18ebaacac5",
   "metadata": {
    "lines_to_next_cell": 2
   },
   "source": [
    "Bring in needed dependencies"
   ]
  },
  {
   "cell_type": "code",
   "execution_count": 2,
   "id": "abad9128-c72e-4e5f-a533-606596676141",
   "metadata": {},
   "outputs": [],
   "source": [
    "from dolfinx import log, default_scalar_type\n",
    "from dolfinx.fem.petsc import NonlinearProblem\n",
    "import pyvista\n",
    "import numpy as np\n",
    "import ufl\n",
    "\n",
    "from mpi4py import MPI\n",
    "from dolfinx import fem, mesh, plot\n",
    "\n",
    "from dolfinx.nls.petsc import NewtonSolver\n",
    "from petsc4py import PETSc\n",
    "\n",
    "from dolfinx.io import XDMFFile\n",
    "import traceback"
   ]
  },
  {
   "cell_type": "markdown",
   "id": "59a73614-1b0c-41ea-82ab-7d2d0c25a476",
   "metadata": {
    "lines_to_next_cell": 2
   },
   "source": [
    "Define the domain"
   ]
  },
  {
   "cell_type": "code",
   "execution_count": 3,
   "id": "1",
   "metadata": {
    "lines_to_end_of_cell_marker": 2,
    "tags": []
   },
   "outputs": [],
   "source": [
    "L = 20.0\n",
    "domain = mesh.create_box(\n",
    "    MPI.COMM_WORLD, [[0.0, 0.0, 0.0], [L, 4, 4]], [20, 4, 4], mesh.CellType.hexahedron\n",
    ")\n",
    "V = fem.functionspace(domain, (\"Lagrange\", 2, (domain.geometry.dim,)))"
   ]
  },
  {
   "cell_type": "markdown",
   "id": "2",
   "metadata": {
    "lines_to_next_cell": 2
   },
   "source": [
    "Create two python functions for determining the facets to apply boundary conditions to"
   ]
  },
  {
   "cell_type": "code",
   "execution_count": 4,
   "id": "3",
   "metadata": {},
   "outputs": [],
   "source": [
    "def left(x):\n",
    "    return np.isclose(x[0], 0)\n",
    "\n",
    "\n",
    "def right(x):\n",
    "    return np.isclose(x[0], L)\n",
    "\n",
    "\n",
    "fdim = domain.topology.dim - 1\n",
    "left_facets = mesh.locate_entities_boundary(domain, fdim, left)\n",
    "right_facets = mesh.locate_entities_boundary(domain, fdim, right)"
   ]
  },
  {
   "cell_type": "markdown",
   "id": "4",
   "metadata": {},
   "source": [
    "Next, create a  marker based on these two functions"
   ]
  },
  {
   "cell_type": "markdown",
   "id": "5",
   "metadata": {},
   "source": [
    "Concatenate and sort the arrays based on facet indices. Left facets marked with 1, right facets with 2"
   ]
  },
  {
   "cell_type": "code",
   "execution_count": 5,
   "id": "6",
   "metadata": {},
   "outputs": [],
   "source": [
    "marked_facets = np.hstack([left_facets, right_facets])\n",
    "marked_values = np.hstack([np.full_like(left_facets, 1), np.full_like(right_facets, 2)])\n",
    "sorted_facets = np.argsort(marked_facets)\n",
    "facet_tag = mesh.meshtags(\n",
    "    domain, fdim, marked_facets[sorted_facets], marked_values[sorted_facets]\n",
    ")"
   ]
  },
  {
   "cell_type": "markdown",
   "id": "7",
   "metadata": {},
   "source": [
    "Create a function for supplying the boundary condition on the left side, which is fixed."
   ]
  },
  {
   "cell_type": "code",
   "execution_count": 6,
   "id": "8",
   "metadata": {},
   "outputs": [],
   "source": [
    "u_bc = np.array((0,) * domain.geometry.dim, dtype=default_scalar_type)"
   ]
  },
  {
   "cell_type": "markdown",
   "id": "9",
   "metadata": {},
   "source": [
    "To apply the boundary condition, we identity the dofs located on the facets marked by the `MeshTag`."
   ]
  },
  {
   "cell_type": "code",
   "execution_count": 7,
   "id": "10",
   "metadata": {},
   "outputs": [],
   "source": [
    "left_dofs = fem.locate_dofs_topological(V, facet_tag.dim, facet_tag.find(1))\n",
    "bcs = [fem.dirichletbc(u_bc, left_dofs, V)]"
   ]
  },
  {
   "cell_type": "markdown",
   "id": "11",
   "metadata": {},
   "source": [
    "Next, we define the body force on the reference configuration (`B`), and nominal (first Piola-Kirchhoff) traction (`T`)."
   ]
  },
  {
   "cell_type": "code",
   "execution_count": 8,
   "id": "12",
   "metadata": {},
   "outputs": [],
   "source": [
    "B = fem.Constant(domain, default_scalar_type((0, 0, 0)))\n",
    "T = fem.Constant(domain, default_scalar_type((0, 0, 0)))"
   ]
  },
  {
   "cell_type": "markdown",
   "id": "13",
   "metadata": {},
   "source": [
    "Define the test and solution functions on the space $V$"
   ]
  },
  {
   "cell_type": "code",
   "execution_count": 9,
   "id": "14",
   "metadata": {},
   "outputs": [],
   "source": [
    "v = ufl.TestFunction(V)\n",
    "u = fem.Function(V)"
   ]
  },
  {
   "cell_type": "markdown",
   "id": "15",
   "metadata": {},
   "source": [
    "Define kinematic quantities used in the problem"
   ]
  },
  {
   "cell_type": "code",
   "execution_count": 10,
   "id": "16",
   "metadata": {},
   "outputs": [],
   "source": [
    "# Spatial dimension\n",
    "d = len(u)\n",
    "\n",
    "# Identity tensor\n",
    "I = ufl.variable(ufl.Identity(d))\n",
    "\n",
    "# Deformation gradient\n",
    "F = ufl.variable(I + ufl.grad(u))\n",
    "\n",
    "# Right Cauchy-Green tensor\n",
    "C = ufl.variable(F.T * F)\n",
    "\n",
    "# Invariants of deformation tensors\n",
    "Ic = ufl.variable(ufl.tr(C))\n",
    "J = ufl.variable(ufl.det(F))"
   ]
  },
  {
   "cell_type": "markdown",
   "id": "17",
   "metadata": {},
   "source": [
    "Define the elasticity model via a stored strain energy density function $\\psi$,\n",
    "and create the expression for the first Piola-Kirchhoff stress:"
   ]
  },
  {
   "cell_type": "markdown",
   "id": "18",
   "metadata": {},
   "source": [
    "Elasticity parameters"
   ]
  },
  {
   "cell_type": "code",
   "execution_count": 11,
   "id": "19",
   "metadata": {},
   "outputs": [],
   "source": [
    "E = default_scalar_type(1.0e4)\n",
    "nu = default_scalar_type(0.3)\n",
    "mu = fem.Constant(domain, E / (2 * (1 + nu)))\n",
    "lmbda = fem.Constant(domain, E * nu / ((1 + nu) * (1 - 2 * nu)))"
   ]
  },
  {
   "cell_type": "markdown",
   "id": "20",
   "metadata": {},
   "source": [
    "Stored strain energy density (compressible neo-Hookean model)"
   ]
  },
  {
   "cell_type": "code",
   "execution_count": 12,
   "id": "21",
   "metadata": {},
   "outputs": [],
   "source": [
    "psi = (mu / 2) * (Ic - 3) - mu * ufl.ln(J) + (lmbda / 2) * (ufl.ln(J)) ** 2"
   ]
  },
  {
   "cell_type": "markdown",
   "id": "22",
   "metadata": {},
   "source": [
    "1st PK stress"
   ]
  },
  {
   "cell_type": "code",
   "execution_count": 13,
   "id": "23",
   "metadata": {},
   "outputs": [],
   "source": [
    "P = ufl.diff(psi, F)"
   ]
  },
  {
   "cell_type": "markdown",
   "id": "639c92f0-1e72-4e4b-9d68-fbef457b71ad",
   "metadata": {},
   "source": [
    "Cauchy stress"
   ]
  },
  {
   "cell_type": "code",
   "execution_count": 14,
   "id": "634cd44c-4074-40ae-94fb-403f90f44451",
   "metadata": {},
   "outputs": [],
   "source": [
    "# --- Compute Cauchy stress symbolically ---\n",
    "J = ufl.det(F)\n",
    "sigma = (1.0 / J) * P * F.T  # σ = (1/J) * P * Fᵀ"
   ]
  },
  {
   "cell_type": "markdown",
   "id": "24",
   "metadata": {},
   "source": [
    "```{admonition} Comparison to linear elasticity\n",
    "To illustrate the difference between linear and hyperelasticity,\n",
    "the following lines can be uncommented to solve the linear elasticity problem.\n",
    "```"
   ]
  },
  {
   "cell_type": "code",
   "execution_count": 15,
   "id": "25",
   "metadata": {},
   "outputs": [],
   "source": [
    "# P = 2.0 * mu * ufl.sym(ufl.grad(u)) + lmbda * ufl.tr(ufl.sym(ufl.grad(u))) * I"
   ]
  },
  {
   "cell_type": "markdown",
   "id": "26",
   "metadata": {},
   "source": [
    "Define the variational form with traction integral over all facets with value 2.\n",
    "We set the quadrature degree for the integrals to 4."
   ]
  },
  {
   "cell_type": "code",
   "execution_count": 16,
   "id": "27",
   "metadata": {},
   "outputs": [],
   "source": [
    "metadata = {\"quadrature_degree\": 4}\n",
    "ds = ufl.Measure(\"ds\", domain=domain, subdomain_data=facet_tag, metadata=metadata)\n",
    "dx = ufl.Measure(\"dx\", domain=domain, metadata=metadata)"
   ]
  },
  {
   "cell_type": "markdown",
   "id": "92c3e322-f951-404d-8884-4a58230b3f4b",
   "metadata": {},
   "source": [
    "Define force forms"
   ]
  },
  {
   "cell_type": "code",
   "execution_count": 17,
   "id": "681290c7-ea8b-4b6c-af6d-1c1f84ba87a8",
   "metadata": {},
   "outputs": [],
   "source": [
    "# Internal (first Piola–Kirchhoff) and external force forms\n",
    "\n",
    "form_int = fem.form(ufl.inner(ufl.grad(v), P) * dx)\n",
    "form_ext = fem.form(ufl.inner(v, B) * dx + ufl.inner(v, T) * ds(2))"
   ]
  },
  {
   "cell_type": "markdown",
   "id": "28",
   "metadata": {},
   "source": [
    "Define the residual of the equation (we want to find u such that residual(u) = 0)"
   ]
  },
  {
   "cell_type": "code",
   "execution_count": 18,
   "id": "29",
   "metadata": {},
   "outputs": [],
   "source": [
    "residual = (\n",
    "    ufl.inner(ufl.grad(v), P) * dx - ufl.inner(v, B) * dx - ufl.inner(v, T) * ds(2)\n",
    ")"
   ]
  },
  {
   "cell_type": "markdown",
   "id": "30",
   "metadata": {},
   "source": [
    "As the varitional form is non-linear and written on residual form,\n",
    "we use the non-linear problem class from DOLFINx to set up required structures to use a Newton solver."
   ]
  },
  {
   "cell_type": "code",
   "execution_count": 19,
   "id": "31",
   "metadata": {},
   "outputs": [
    {
     "name": "stdout",
     "output_type": "stream",
     "text": [
      "Converged: True, iterations = 2\n"
     ]
    }
   ],
   "source": [
    "# 1️⃣ Define nonlinear problem\n",
    "problem = NonlinearProblem(residual, u, bcs=bcs)\n",
    "\n",
    "# 2️⃣ Configure PETSc options globally\n",
    "opts = PETSc.Options()\n",
    "opts[\"snes_type\"] = \"newtonls\"\n",
    "opts[\"snes_linesearch_type\"] = \"basic\"\n",
    "opts[\"ksp_type\"] = \"preonly\"\n",
    "opts[\"pc_type\"] = \"lu\"\n",
    "opts[\"pc_factor_mat_solver_type\"] = \"petsc\"\n",
    "# You can add monitors if desired:\n",
    "# opts[\"snes_monitor\"] = \"\"\n",
    "\n",
    "# 3️⃣ Create solver and tune tolerances\n",
    "solver = NewtonSolver(u.function_space.mesh.comm, problem)\n",
    "solver.rtol = 1e-8\n",
    "solver.atol = 1e-8\n",
    "solver.stol = 1e-8\n",
    "solver.max_it = 50\n",
    "solver.report = True\n",
    "solver.convergence_criterion = \"incremental\"\n",
    "\n",
    "# 4️⃣ Solve\n",
    "n_iter, converged = solver.solve(u)\n",
    "print(f\"Converged: {converged}, iterations = {n_iter}\")\n"
   ]
  },
  {
   "cell_type": "markdown",
   "id": "34",
   "metadata": {},
   "source": [
    "Finally, we solve the problem over several time steps, updating the z-component of the traction"
   ]
  },
  {
   "cell_type": "code",
   "execution_count": 20,
   "id": "9c468163-e243-44bb-b104-a7551d2b555f",
   "metadata": {
    "scrolled": true
   },
   "outputs": [
    {
     "name": "stdout",
     "output_type": "stream",
     "text": [
      "\n",
      "=== Load step 1 ===\n",
      "Step 1: ✅ converged in 4 iterations\n",
      "Step 1: Rx=1.296e-27, Ry=9.207e-28, Rz=-1.308e-27, |R|=2.059e-27\n"
     ]
    },
    {
     "ename": "TypeError",
     "evalue": "int() argument must be a string, a bytes-like object or a real number, not 'CellType'",
     "output_type": "error",
     "traceback": [
      "\u001b[31m---------------------------------------------------------------------------\u001b[39m",
      "\u001b[31mTypeError\u001b[39m                                 Traceback (most recent call last)",
      "\u001b[36mCell\u001b[39m\u001b[36m \u001b[39m\u001b[32mIn[20]\u001b[39m\u001b[32m, line 95\u001b[39m\n\u001b[32m     93\u001b[39m points = np.array(centroid, dtype=np.float64)\n\u001b[32m     94\u001b[39m cells = np.array([], dtype=np.int64)\n\u001b[32m---> \u001b[39m\u001b[32m95\u001b[39m point_mesh = \u001b[43mmesh\u001b[49m\u001b[43m.\u001b[49m\u001b[43mcreate_mesh\u001b[49m\u001b[43m(\u001b[49m\u001b[43mdomain\u001b[49m\u001b[43m.\u001b[49m\u001b[43mcomm\u001b[49m\u001b[43m,\u001b[49m\u001b[43m \u001b[49m\u001b[43mCellType\u001b[49m\u001b[43m.\u001b[49m\u001b[43mpoint\u001b[49m\u001b[43m,\u001b[49m\u001b[43m \u001b[49m\u001b[43m[\u001b[49m\u001b[43mcells\u001b[49m\u001b[43m]\u001b[49m\u001b[43m,\u001b[49m\u001b[43m \u001b[49m\u001b[43mpoints\u001b[49m\u001b[43m)\u001b[49m\n\u001b[32m     97\u001b[39m \u001b[38;5;66;03m# --- Define function spaces and functions ---\u001b[39;00m\n\u001b[32m     98\u001b[39m Vv = fem.functionspace(point_mesh, (\u001b[33m\"\u001b[39m\u001b[33mDG\u001b[39m\u001b[33m\"\u001b[39m, \u001b[32m0\u001b[39m, (\u001b[32m3\u001b[39m,)))\n",
      "\u001b[36mFile \u001b[39m\u001b[32m~/miniconda3/envs/fenicsx/lib/python3.13/site-packages/dolfinx/mesh.py:652\u001b[39m, in \u001b[36mcreate_mesh\u001b[39m\u001b[34m(comm, cells, x, e, partitioner)\u001b[39m\n\u001b[32m    649\u001b[39m             dtype = cmap.dtype\n\u001b[32m    651\u001b[39m x = np.asarray(x, dtype=dtype, order=\u001b[33m\"\u001b[39m\u001b[33mC\u001b[39m\u001b[33m\"\u001b[39m)\n\u001b[32m--> \u001b[39m\u001b[32m652\u001b[39m cells = \u001b[43mnp\u001b[49m\u001b[43m.\u001b[49m\u001b[43masarray\u001b[49m\u001b[43m(\u001b[49m\u001b[43mcells\u001b[49m\u001b[43m,\u001b[49m\u001b[43m \u001b[49m\u001b[43mdtype\u001b[49m\u001b[43m=\u001b[49m\u001b[43mnp\u001b[49m\u001b[43m.\u001b[49m\u001b[43mint64\u001b[49m\u001b[43m,\u001b[49m\u001b[43m \u001b[49m\u001b[43morder\u001b[49m\u001b[43m=\u001b[49m\u001b[33;43m\"\u001b[39;49m\u001b[33;43mC\u001b[39;49m\u001b[33;43m\"\u001b[39;49m\u001b[43m)\u001b[49m\n\u001b[32m    653\u001b[39m msh = _cpp.mesh.create_mesh(comm, cells, cmap._cpp_object, x, partitioner)\n\u001b[32m    655\u001b[39m \u001b[38;5;28;01mreturn\u001b[39;00m Mesh(msh, domain)\n",
      "\u001b[31mTypeError\u001b[39m: int() argument must be a string, a bytes-like object or a real number, not 'CellType'"
     ]
    }
   ],
   "source": [
    "# --- Define output spaces once ---\n",
    "V_out = fem.functionspace(domain, (\"Lagrange\", 1, (domain.geometry.dim,)))\n",
    "\n",
    "# Tensor spaces\n",
    "W_CG = fem.functionspace(domain, (\"Lagrange\", 1, (domain.geometry.dim, domain.geometry.dim)))\n",
    "W_DG = fem.functionspace(domain, (\"Discontinuous Lagrange\", 0, (domain.geometry.dim, domain.geometry.dim)))\n",
    "# --- Interpolate forces to a linear Lagrange space for output ---\n",
    "\n",
    "force_out = fem.Function(V_out, name=\"Nodal_forces\")\n",
    "reac_out  = fem.Function(V_out, name=\"Reaction_forces\")\n",
    "# Internal versions (live in same space as displacement)\n",
    "force_func = fem.Function(V, name=\"Nodal_forces_internal\")\n",
    "reac_func  = fem.Function(V, name=\"Reaction_forces_internal\")\n",
    "\n",
    "# --- Output function containers ---\n",
    "u_out = fem.Function(V_out, name=\"Displacement\")\n",
    "sigma_CG = fem.Function(W_CG, name=\"Cauchy_stress_CG\")\n",
    "sigma_DG = fem.Function(W_DG, name=\"Cauchy_stress_DG\")\n",
    "\n",
    "# --- Projection problems for CG(1) and DG(0) ---\n",
    "# Continuous projection\n",
    "v_CG = ufl.TestFunction(W_CG)\n",
    "t_CG = ufl.TrialFunction(W_CG)\n",
    "a_CG = ufl.inner(t_CG, v_CG) * ufl.dx\n",
    "L_CG = ufl.inner(sigma, v_CG) * ufl.dx\n",
    "proj_CG = fem.petsc.LinearProblem(a_CG, L_CG)\n",
    "\n",
    "# Discontinuous projection (cell-average)\n",
    "v_DG = ufl.TestFunction(W_DG)\n",
    "t_DG = ufl.TrialFunction(W_DG)\n",
    "a_DG = ufl.inner(t_DG, v_DG) * ufl.dx\n",
    "L_DG = ufl.inner(sigma, v_DG) * ufl.dx\n",
    "proj_DG = fem.petsc.LinearProblem(a_DG, L_DG)\n",
    "\n",
    "# --- Open file and write initial undeformed state ---\n",
    "with XDMFFile(domain.comm, \"results_hyperelastic.xdmf\", \"w\") as xdmf:\n",
    "    xdmf.write_mesh(domain)\n",
    "\n",
    "    # Initial zero fields\n",
    "    xdmf.write_function(u_out, t=0.0)\n",
    "    xdmf.write_function(sigma_CG, t=0.0)\n",
    "    xdmf.write_function(sigma_DG, t=0.0)\n",
    "\n",
    "    tval0 = -1.5\n",
    "\n",
    "    for n in range(1, 20):\n",
    "        print(f\"\\n=== Load step {n} ===\")\n",
    "        T.value[2] = n * tval0\n",
    "\n",
    "        try:\n",
    "            n_iter, converged = solver.solve(u)\n",
    "            print(f\"Step {n}: {'✅ converged' if converged else '❌ not converged'} in {n_iter} iterations\")\n",
    "        except Exception as e:\n",
    "            print(f\"❌ Solver crashed at step {n}: {e}\")\n",
    "            traceback.print_exc()\n",
    "            break\n",
    "\n",
    "        # --- Displacement field ---\n",
    "        u_out.interpolate(u)\n",
    "        xdmf.write_function(u_out, t=float(n))\n",
    "\n",
    "        # --- Cauchy_stress_CG (smooth) ---\n",
    "        sigma_CG_sol = proj_CG.solve()\n",
    "        sigma_CG.x.array[:] = sigma_CG_sol.x.array\n",
    "        xdmf.write_function(sigma_CG, t=float(n))\n",
    "\n",
    "        # --- Cauchy_stress_DG (cell-average ≈ GP mean) ---\n",
    "        sigma_DG_sol = proj_DG.solve()\n",
    "        sigma_DG.x.array[:] = sigma_DG_sol.x.array\n",
    "        xdmf.write_function(sigma_DG, t=float(n))\n",
    "\n",
    "        print(f\"📤 Saved displacement and stresses for step {n}\")\n",
    "\n",
    "        # --- Safety check ---\n",
    "        if np.isnan(u.x.array).any():\n",
    "            print(\"⚠️ NaN detected in solution, stopping loop.\")\n",
    "            break\n",
    "\n",
    "print(\"✅ Simulation completed successfully.\")\n"
   ]
  },
  {
   "cell_type": "code",
   "execution_count": null,
   "id": "a02f0d63-dfea-4079-87d0-c19c1d10ffd6",
   "metadata": {},
   "outputs": [],
   "source": []
  }
 ],
 "metadata": {
  "jupytext": {
   "formats": "ipynb,py:light"
  },
  "kernelspec": {
   "display_name": "Python 3 (ipykernel)",
   "language": "python",
   "name": "python3"
  },
  "language_info": {
   "codemirror_mode": {
    "name": "ipython",
    "version": 3
   },
   "file_extension": ".py",
   "mimetype": "text/x-python",
   "name": "python",
   "nbconvert_exporter": "python",
   "pygments_lexer": "ipython3",
   "version": "3.13.9"
  }
 },
 "nbformat": 4,
 "nbformat_minor": 5
}
