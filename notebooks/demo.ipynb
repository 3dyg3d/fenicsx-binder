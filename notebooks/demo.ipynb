{
 "cells": [
  {
   "cell_type": "code",
   "execution_count": null,
   "metadata": {},
   "outputs": [],
   "source": [
    "from dolfinx import mesh, fem\n",
    "from mpi4py import MPI\n",
    "import ufl\n",
    "\n",
    "domain = mesh.create_unit_square(MPI.COMM_WORLD, 16, 16)\n",
    "V = fem.functionspace(domain, (\"Lagrange\", 1))\n",
    "u = fem.Function(V)\n",
    "v = ufl.TestFunction(V)\n",
    "f = fem.Constant(domain, 1.0)\n",
    "a = ufl.inner(ufl.grad(u), ufl.grad(v)) * ufl.dx\n",
    "L = f * v * ufl.dx\n",
    "problem = fem.petsc.LinearProblem(a, L)\n",
    "uh = problem.solve()\n",
    "print(\"✅ Solved Poisson problem on\", domain.topology.index_map(0).size_global, \"nodes\")"
   ]
  }
 ],
 "metadata": {},
 "nbformat": 4,
 "nbformat_minor": 2
}
