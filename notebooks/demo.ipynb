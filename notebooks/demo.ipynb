from dolfinx import mesh, fem
from mpi4py import MPI
import ufl

domain = mesh.create_unit_square(MPI.COMM_WORLD, 8, 8)
V = fem.functionspace(domain, ("Lagrange", 1))
u = fem.Function(V)
v = ufl.TestFunction(V)
f = fem.Constant(domain, 1.0)
a = ufl.inner(ufl.grad(u), ufl.grad(v)) * ufl.dx
L = f * v * ufl.dx

problem = fem.petsc.LinearProblem(a, L)
uh = problem.solve()
print("✅ Solved Poisson problem on", domain.topology.index_map(0).size_global, "nodes")
