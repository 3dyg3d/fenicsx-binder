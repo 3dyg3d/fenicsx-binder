from dolfinx import mesh, fem
from mpi4py import MPI
import ufl

# 1️⃣ Create a unit square mesh
domain = mesh.create_unit_square(MPI.COMM_WORLD, 16, 16)

# 2️⃣ Define a function space
V = fem.functionspace(domain, ("Lagrange", 1))

# 3️⃣ Define variational problem
u = fem.Function(V)
v = ufl.TestFunction(V)
f = fem.Constant(domain, 1.0)
a = ufl.inner(ufl.grad(u), ufl.grad(v)) * ufl.dx
L = f * v * ufl.dx

# 4️⃣ Solve
problem = fem.petsc.LinearProblem(a, L)
uh = problem.solve()

# 5️⃣ Print result summary
print("✅ Solved Poisson problem on", domain.topology.index_map(0).size_global, "nodes")
